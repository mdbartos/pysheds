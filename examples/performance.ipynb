{
 "cells": [
  {
   "cell_type": "code",
   "execution_count": 1,
   "metadata": {
    "collapsed": true
   },
   "outputs": [],
   "source": [
    "import numpy as np\n",
    "import pandas as pd\n",
    "import matplotlib.pyplot as plt\n",
    "import matplotlib.colors as colors\n",
    "from pysheds.grid import Grid\n",
    "import timeit\n",
    "\n",
    "%matplotlib inline"
   ]
  },
  {
   "cell_type": "code",
   "execution_count": 2,
   "metadata": {
    "collapsed": true
   },
   "outputs": [],
   "source": [
    "grid = Grid.from_raster(\"../data/n30w100_dir\", data_name=\"dir\", input_type=\"ascii\")\n",
    "\n",
    "# N    NE    E    SE    S    SW    W    NW\n",
    "dirmap = (64, 128, 1, 2, 4, 8, 16, 32)"
   ]
  },
  {
   "cell_type": "code",
   "execution_count": 3,
   "metadata": {},
   "outputs": [
    {
     "name": "stdout",
     "output_type": "stream",
     "text": [
      "6000  x  6000  grid\n",
      "36000000  gridcells\n",
      "36.0 MB in memory (stored as uint8)\n"
     ]
    }
   ],
   "source": [
    "gridsize = grid.dir.size\n",
    "gridshape = grid.dir.shape\n",
    "gridbytes = grid.dir.nbytes\n",
    "\n",
    "print(gridshape[0], \" x \", gridshape[1], \" grid\")\n",
    "print(gridsize, \" gridcells\")\n",
    "print(gridbytes / 1000000, \"MB in memory (stored as uint8)\")"
   ]
  },
  {
   "cell_type": "code",
   "execution_count": 4,
   "metadata": {
    "collapsed": true
   },
   "outputs": [],
   "source": [
    "fdir = grid.view(\"dir\")"
   ]
  },
  {
   "cell_type": "code",
   "execution_count": 5,
   "metadata": {},
   "outputs": [
    {
     "name": "stdout",
     "output_type": "stream",
     "text": [
      "15 s ± 700 ms per loop (mean ± std. dev. of 7 runs, 1 loop each)\n"
     ]
    }
   ],
   "source": [
    "%timeit grid.accumulation(fdir, dirmap=dirmap, pad_inplace=True, direction_name='dir')"
   ]
  },
  {
   "cell_type": "code",
   "execution_count": 6,
   "metadata": {
    "collapsed": true
   },
   "outputs": [],
   "source": [
    "pour_y, pour_x = np.unravel_index(np.argmax(grid.acc), gridshape)"
   ]
  },
  {
   "cell_type": "code",
   "execution_count": 7,
   "metadata": {},
   "outputs": [
    {
     "name": "stdout",
     "output_type": "stream",
     "text": [
      "4.55 s ± 114 ms per loop (mean ± std. dev. of 7 runs, 1 loop each)\n"
     ]
    }
   ],
   "source": [
    "%timeit grid.catchment(pour_x, pour_y, dirmap=dirmap, recursionlimit=15000, xytype='index')"
   ]
  },
  {
   "cell_type": "code",
   "execution_count": 8,
   "metadata": {},
   "outputs": [
    {
     "name": "stdout",
     "output_type": "stream",
     "text": [
      "9792691  cells in catchment\n"
     ]
    }
   ],
   "source": [
    "catchment_cells = np.count_nonzero(grid.view(\"catch\"))\n",
    "print(catchment_cells, \" cells in catchment\")"
   ]
  },
  {
   "cell_type": "code",
   "execution_count": 9,
   "metadata": {
    "collapsed": true
   },
   "outputs": [],
   "source": [
    "D = np.logspace(1, 3.7782, 15).astype(int)"
   ]
  },
  {
   "cell_type": "code",
   "execution_count": 10,
   "metadata": {
    "collapsed": true
   },
   "outputs": [],
   "source": [
    "times = []\n",
    "\n",
    "for i in D:\n",
    "    fdir_sub = fdir[:i, :i]\n",
    "    start = timeit.default_timer()\n",
    "    grid.accumulation(fdir_sub, dirmap=dirmap, pad_inplace=True)\n",
    "    stop = timeit.default_timer()\n",
    "    dt = stop - start\n",
    "    times.append(dt)"
   ]
  },
  {
   "cell_type": "code",
   "execution_count": 11,
   "metadata": {},
   "outputs": [
    {
     "data": {
      "image/png": "[encoded data removed]",
      "text/plain": [
       "<matplotlib.figure.Figure at 0x108d49160>"
      ]
     },
     "metadata": {},
     "output_type": "display_data"
    }
   ],
   "source": [
    "fig, ax = plt.subplots(figsize=(8, 4))\n",
    "\n",
    "ax.loglog(D**2, times, marker=\"o\")\n",
    "ax.loglog(D**2, D**2 / 1e6, linestyle=\"--\", c=\"0.85\")\n",
    "ax.set_xlabel(\"Number of inputs\")\n",
    "ax.set_ylabel(\"Run time (s)\")\n",
    "ax.set_title(\"Flow accumulation run time vs. number of inputs\")\n",
    "ax.grid()\n",
    "plt.tight_layout()\n",
    "plt.savefig(\"accumulation_runtime.pdf\")"
   ]
  },
  {
   "cell_type": "code",
   "execution_count": 12,
   "metadata": {
    "collapsed": true
   },
   "outputs": [],
   "source": [
    "grid.accumulation(fdir, dirmap=dirmap, pad_inplace=False)\n",
    "pour_y, pour_x = np.unravel_index(np.argmax(grid.acc), gridshape)\n",
    "grid.catchment(\n",
    "    pour_x,\n",
    "    pour_y,\n",
    "    dirmap=dirmap,\n",
    "    direction_name=\"dir\",\n",
    "    recursionlimit=15000,\n",
    "    xytype=\"index\",\n",
    ")\n",
    "grid.accumulation(direction_name=\"catch\", dirmap=dirmap, pad_inplace=False)"
   ]
  },
  {
   "cell_type": "code",
   "execution_count": 13,
   "metadata": {
    "collapsed": true
   },
   "outputs": [],
   "source": [
    "D = np.logspace(2, np.log10(grid.acc.max()), 20).astype(int)"
   ]
  },
  {
   "cell_type": "code",
   "execution_count": 14,
   "metadata": {
    "collapsed": true
   },
   "outputs": [],
   "source": [
    "ix = [np.argmin(np.abs(grid.acc.ravel() - i)) for i in D]"
   ]
  },
  {
   "cell_type": "code",
   "execution_count": 15,
   "metadata": {
    "collapsed": true
   },
   "outputs": [],
   "source": [
    "times = []\n",
    "sizes = []\n",
    "\n",
    "for i in ix:\n",
    "    pour_y, pour_x = np.unravel_index(i, fdir.shape)\n",
    "    fdir_sub = fdir[:i, :i]\n",
    "    start = timeit.default_timer()\n",
    "    grid.catchment(pour_x, pour_y, fdir, dirmap=dirmap, recursionlimit=15000, xytype=\"index\")\n",
    "    stop = timeit.default_timer()\n",
    "    dt = stop - start\n",
    "    size = np.count_nonzero(grid.catch)\n",
    "    times.append(dt)\n",
    "    sizes.append(size)"
   ]
  },
  {
   "cell_type": "code",
   "execution_count": 16,
   "metadata": {
    "collapsed": true
   },
   "outputs": [],
   "source": [
    "times = np.asarray(times)\n",
    "sizes = np.asarray(sizes)"
   ]
  },
  {
   "cell_type": "code",
   "execution_count": 17,
   "metadata": {
    "collapsed": true
   },
   "outputs": [],
   "source": [
    "s = pd.Series(times, index=sizes).sort_index()"
   ]
  },
  {
   "cell_type": "code",
   "execution_count": 18,
   "metadata": {},
   "outputs": [
    {
     "data": {
      "image/png": "[encoded data removed]",
      "text/plain": [
       "<matplotlib.figure.Figure at 0x10b6a8860>"
      ]
     },
     "metadata": {},
     "output_type": "display_data"
    }
   ],
   "source": [
    "fig, ax = plt.subplots(figsize=(8, 4))\n",
    "\n",
    "ax.loglog(s.index, s.values, marker=\"o\")\n",
    "ax.loglog(s.index[9:], s.index[9:] / 1e6, linestyle=\"--\", c=\"0.85\")\n",
    "ax.set_xlabel(\"Number of inputs\")\n",
    "ax.set_ylabel(\"Run time (s)\")\n",
    "ax.set_title(\"Catchment delineation run time vs. number of inputs\")\n",
    "ax.set_ylim(0.05, 5)\n",
    "ax.yaxis.set_ticklabels([\"\", \"\", \"0.1\", \"1\"])\n",
    "ax.grid()\n",
    "plt.tight_layout()\n",
    "plt.savefig(\"catchment_runtime.pdf\")"
   ]
  },
  {
   "cell_type": "code",
   "execution_count": 19,
   "metadata": {
    "collapsed": true
   },
   "outputs": [],
   "source": [
    "grid.accumulation(fdir, dirmap=dirmap, pad_inplace=False, direction_name=\"dir\")"
   ]
  },
  {
   "cell_type": "code",
   "execution_count": 20,
   "metadata": {
    "collapsed": true
   },
   "outputs": [],
   "source": [
    "pour_y, pour_x = np.unravel_index(np.argmax(grid.acc), gridshape)"
   ]
  },
  {
   "cell_type": "code",
   "execution_count": 21,
   "metadata": {
    "collapsed": true
   },
   "outputs": [],
   "source": [
    "grid.catchment(pour_x, pour_y, dirmap=dirmap, recursionlimit=15000, xytype=\"index\")"
   ]
  },
  {
   "cell_type": "code",
   "execution_count": 22,
   "metadata": {},
   "outputs": [
    {
     "data": {
      "text/plain": [
       "9792691"
      ]
     },
     "execution_count": 22,
     "metadata": {},
     "output_type": "execute_result"
    }
   ],
   "source": [
    "np.count_nonzero(grid.catch)"
   ]
  },
  {
   "cell_type": "code",
   "execution_count": null,
   "metadata": {
    "collapsed": true
   },
   "outputs": [],
   "source": []
  }
 ],
 "metadata": {
  "kernelspec": {
   "display_name": "Python 3",
   "language": "python",
   "name": "python3"
  },
  "language_info": {
   "codemirror_mode": {
    "name": "ipython",
    "version": 3
   },
   "file_extension": ".py",
   "mimetype": "text/x-python",
   "name": "python",
   "nbconvert_exporter": "python",
   "pygments_lexer": "ipython3",
   "version": "3.6.0"
  }
 },
 "nbformat": 4,
 "nbformat_minor": 2
}
