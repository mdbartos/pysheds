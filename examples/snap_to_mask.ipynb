{
 "cells": [
  {
   "cell_type": "markdown",
   "metadata": {},
   "source": [
    "# Import modules"
   ]
  },
  {
   "cell_type": "code",
   "execution_count": 1,
   "metadata": {},
   "outputs": [],
   "source": [
    "import numpy as np\n",
    "import matplotlib.pyplot as plt\n",
    "import matplotlib.colors as colors\n",
    "from pysheds.grid import Grid\n",
    "import seaborn as sns\n",
    "import warnings\n",
    "\n",
    "warnings.filterwarnings(\"ignore\")\n",
    "np.random.seed(0)\n",
    "\n",
    "%matplotlib inline"
   ]
  },
  {
   "cell_type": "markdown",
   "metadata": {},
   "source": [
    "# Instatiate a grid"
   ]
  },
  {
   "cell_type": "markdown",
   "metadata": {},
   "source": [
    "Data from USGS hydrosheds project: https://hydrosheds.cr.usgs.gov/datadownload.php"
   ]
  },
  {
   "cell_type": "code",
   "execution_count": 2,
   "metadata": {},
   "outputs": [],
   "source": [
    "grid = Grid.from_raster(\"../data/n30w100_con\", data_name=\"dem\")\n",
    "grid.read_raster(\"../data/n30w100_dir\", data_name=\"dir\")"
   ]
  },
  {
   "cell_type": "markdown",
   "metadata": {},
   "source": [
    "# Specify flow direction values"
   ]
  },
  {
   "cell_type": "code",
   "execution_count": 3,
   "metadata": {},
   "outputs": [],
   "source": [
    "# N    NE    E    SE    S    SW    W    NW\n",
    "dirmap = (64, 128, 1, 2, 4, 8, 16, 32)"
   ]
  },
  {
   "cell_type": "markdown",
   "metadata": {},
   "source": [
    "# Clip to a smaller area"
   ]
  },
  {
   "cell_type": "code",
   "execution_count": 4,
   "metadata": {},
   "outputs": [],
   "source": [
    "# Specify pour point\n",
    "x, y = -97.294167, 32.73750\n",
    "\n",
    "# Delineate the catchment\n",
    "grid.catchment(\n",
    "    data=\"dir\",\n",
    "    x=x,\n",
    "    y=y,\n",
    "    dirmap=dirmap,\n",
    "    out_name=\"catch\",\n",
    "    recursionlimit=15000,\n",
    "    xytype=\"label\",\n",
    "    nodata_out=0,\n",
    ")\n",
    "\n",
    "# Clip to catchment\n",
    "grid.clip_to(\"catch\")\n",
    "# grid.mask = np.ones_like(grid.mask).astype(bool)"
   ]
  },
  {
   "cell_type": "markdown",
   "metadata": {},
   "source": [
    "# Generate random points"
   ]
  },
  {
   "cell_type": "code",
   "execution_count": 5,
   "metadata": {},
   "outputs": [],
   "source": [
    "yi_s = np.random.randint(0, grid.shape[0], size=10)\n",
    "xi_s = np.random.randint(0, grid.shape[1], size=10)\n",
    "xs, ys = grid.affine * (xi_s, yi_s)"
   ]
  },
  {
   "cell_type": "markdown",
   "metadata": {},
   "source": [
    "# Delineate catchments at random points"
   ]
  },
  {
   "cell_type": "code",
   "execution_count": 6,
   "metadata": {},
   "outputs": [],
   "source": [
    "z0 = np.zeros(grid.shape)\n",
    "i = 0\n",
    "\n",
    "for x, y in zip(xs, ys):\n",
    "    i += 1\n",
    "    c = grid.catchment(x, y, data=\"dir\", dirmap=dirmap, xytype=\"label\", inplace=False)\n",
    "    z0 += i * (c != 0).astype(int)"
   ]
  },
  {
   "cell_type": "markdown",
   "metadata": {},
   "source": [
    "# Snap points to nearest high accumulation cells"
   ]
  },
  {
   "cell_type": "code",
   "execution_count": 7,
   "metadata": {},
   "outputs": [],
   "source": [
    "grid.accumulation(data=\"dir\", dirmap=dirmap, out_name=\"acc\", apply_mask=False)"
   ]
  },
  {
   "cell_type": "code",
   "execution_count": 8,
   "metadata": {},
   "outputs": [],
   "source": [
    "xy = np.column_stack([xs, ys])\n",
    "new_xy = grid.snap_to_mask(grid.acc > 50, xy, return_dist=False)\n",
    "new_xs, new_ys = new_xy[:, 0], new_xy[:, 1]"
   ]
  },
  {
   "cell_type": "markdown",
   "metadata": {},
   "source": [
    "# Delineate catchments at snapped points"
   ]
  },
  {
   "cell_type": "code",
   "execution_count": 9,
   "metadata": {},
   "outputs": [],
   "source": [
    "z1 = np.zeros(grid.shape)\n",
    "i = 0\n",
    "\n",
    "for x, y in zip(new_xs, new_ys):\n",
    "    i += 1\n",
    "    c = grid.catchment(x, y, data=\"dir\", dirmap=dirmap, xytype=\"label\", inplace=False)\n",
    "    z1 += i * (c != 0).astype(int)"
   ]
  },
  {
   "cell_type": "markdown",
   "metadata": {},
   "source": [
    "# Plot results"
   ]
  },
  {
   "cell_type": "code",
   "execution_count": 10,
   "metadata": {},
   "outputs": [
    {
     "data": {
      "image/png": "[encoded data removed]",
      "text/plain": [
       "<matplotlib.figure.Figure at 0x120750d68>"
      ]
     },
     "metadata": {},
     "output_type": "display_data"
    }
   ],
   "source": [
    "fig, ax = plt.subplots(1, 2, figsize=(12, 6))\n",
    "\n",
    "z0[z0 == 0] = np.nan\n",
    "z1[z1 == 0] = np.nan\n",
    "\n",
    "ax[0].imshow(z0, extent=grid.extent, zorder=1, cmap=\"plasma\")\n",
    "ax[0].scatter(xy[:, 0], xy[:, 1], marker=\"x\", c=\"k\", zorder=2)\n",
    "ax[0].set_title(\"Catchments at original coordinates\")\n",
    "ax[0].set_xlabel(\"Longitude\")\n",
    "ax[0].set_ylabel(\"Latitude\")\n",
    "\n",
    "ax[1].imshow(z1, extent=grid.extent, zorder=1, cmap=\"plasma\")\n",
    "ax[1].scatter(new_xy[:, 0], new_xy[:, 1], marker=\"x\", c=\"k\", zorder=2)\n",
    "ax[1].set_title(\"Catchments at snapped coordinates\")\n",
    "ax[1].set_xlabel(\"Longitude\")\n",
    "\n",
    "plt.tight_layout()"
   ]
  },
  {
   "cell_type": "code",
   "execution_count": 11,
   "metadata": {},
   "outputs": [
    {
     "data": {
      "text/plain": [
       "<matplotlib.text.Text at 0x127dcf6a0>"
      ]
     },
     "execution_count": 11,
     "metadata": {},
     "output_type": "execute_result"
    },
    {
     "data": {
      "image/png": "[encoded data removed]",
      "text/plain": [
       "<matplotlib.figure.Figure at 0x127db8d68>"
      ]
     },
     "metadata": {},
     "output_type": "display_data"
    }
   ],
   "source": [
    "fig, ax = plt.subplots(figsize=(8, 8))\n",
    "ax.set_aspect(\"equal\")\n",
    "\n",
    "plt.scatter(xs, ys, marker=\"x\", c=\"b\", s=100, label=\"original\")\n",
    "plt.scatter(new_xs, new_ys, marker=\"x\", c=\"r\", s=100, label=\"snapped\")\n",
    "plt.legend(frameon=True)\n",
    "plt.imshow(\n",
    "    np.where(grid.acc > 50, 1, np.nan),\n",
    "    extent=grid.extent,\n",
    "    cmap=\"bone\",\n",
    "    zorder=1,\n",
    "    alpha=0.5,\n",
    ")\n",
    "plt.title(\"Original vs. snapped coordinates\")\n",
    "plt.xlabel(\"Longitude\")\n",
    "plt.ylabel(\"Latitude\")"
   ]
  },
  {
   "cell_type": "code",
   "execution_count": null,
   "metadata": {},
   "outputs": [],
   "source": []
  }
 ],
 "metadata": {
  "kernelspec": {
   "display_name": "Python 3",
   "language": "python",
   "name": "python3"
  },
  "language_info": {
   "codemirror_mode": {
    "name": "ipython",
    "version": 3
   },
   "file_extension": ".py",
   "mimetype": "text/x-python",
   "name": "python",
   "nbconvert_exporter": "python",
   "pygments_lexer": "ipython3",
   "version": "3.6.0"
  }
 },
 "nbformat": 4,
 "nbformat_minor": 2
}
